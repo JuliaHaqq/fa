{
 "cells": [
  {
   "cell_type": "code",
   "execution_count": null,
   "id": "7ad99b45",
   "metadata": {},
   "outputs": [],
   "source": []
  },
  {
   "cell_type": "code",
   "execution_count": 1,
   "id": "b43644d8",
   "metadata": {},
   "outputs": [],
   "source": [
    "#! pip install sqlalchemy"
   ]
  },
  {
   "cell_type": "code",
   "execution_count": 1,
   "id": "37e97907",
   "metadata": {},
   "outputs": [],
   "source": [
    "from sqlalchemy import MetaData, Table, create_engine, select, and_, or_, not_, text, desc\n",
    "from sqlalchemy import union, union_all\n",
    "from sqlalchemy.sql import func, distinct, exists"
   ]
  },
  {
   "cell_type": "code",
   "execution_count": 2,
   "id": "eb4393e8",
   "metadata": {},
   "outputs": [],
   "source": [
    "engine = create_engine('sqlite:///../Data/Students.db')\n",
    "metadata_obj = MetaData() # Объект-контейнер, содержит информацию о схеме данных\n",
    "metadata_obj.reflect(bind=engine) # Отображение БД"
   ]
  },
  {
   "cell_type": "markdown",
   "id": "3797f17f",
   "metadata": {},
   "source": [
    "Создание объектов таблиц"
   ]
  },
  {
   "cell_type": "code",
   "execution_count": 3,
   "id": "6e812caf",
   "metadata": {},
   "outputs": [],
   "source": [
    "exam_marks=Table(\"exam_marks\", metadata_obj, autoload=True, autoload_with=\"engine\")\n",
    "lecturer=Table(\"lecturer\", metadata_obj, autoload=True, autoload_with=\"engine\")\n",
    "student=Table(\"student\", metadata_obj, autoload=True, autoload_with=\"engine\")\n",
    "subj_lect=Table(\"subj_lect\", metadata_obj, autoload=True, autoload_with=\"engine\")\n",
    "subject=Table(\"subject\", metadata_obj, autoload=True, autoload_with=\"engine\")\n",
    "university=Table(\"university\", metadata_obj, autolad=True, autolad_with=\"engine\")"
   ]
  },
  {
   "cell_type": "code",
   "execution_count": 4,
   "id": "5e0c68fe",
   "metadata": {},
   "outputs": [],
   "source": [
    "conn=engine.connect() # Соединение"
   ]
  },
  {
   "cell_type": "markdown",
   "id": "fb742d9f",
   "metadata": {},
   "source": [
    "<img src=../Img/pencil.png style=\"width:190px;height:190px\">\n",
    "<p style=\"background-color:powderblue; font-size:125%; color: rebeccapurple;\">Выполните задания</p>\n",
    "<p>Выполните задания с помощью соедиинения таблиц в Jupyter Notebook </p>\n",
    "\n",
    "1. Создайте объединение двух запросов, которые выдают значения полей *univ_name*, *city*, *rating* для всех университетов. Те из них, у которых рейтинг равен или выше 300, должны иметь комментарий ‘высокий’, все остальные — ‘низкий’.\n",
    "\n",
    "2. Напишите команду, которая выдает список фамилий студентов с комментарием: 'успевает' у студентов, имеющих все положительные оценки; 'не успевает' для сдававших экзамены, но имеющих хотя бы одну неудовлетворительную оценку; 'не сдавал' — для всех остальных. В выводимом результате фамилии студентов упорядочите по алфавиту.\n",
    "\n",
    "3. Выведите объединенный список студентов и преподавателей, живущих в Москве, с соответствующими комментариями 'студент' или 'преподаватель'.\n",
    "\n",
    "4. Выведите объединенный список студентов и преподавателей ВГУ с соответствующими комментариями 'студент' или 'преподаватель'.\n",
    "\n",
    "5. Для каждого города выведите названия университетов с минимальным и максимальным для данного города рейтингом. Пометьте строки списка словами ‘min’ и ‘max’, поместив их в дополнительном столбце. Резулььтат должен содержать название города, название университета, рейтинг. Упорядочите результат по городу.\n",
    "\n",
    "6. Для каждого курса выведите фамилии студентов, получающих минимальные и максимальные на их курсе стипендии. Пометьте строки списка словами ‘min’ и ‘max’, поместив их в дополнительном столбце.\n",
    "\n",
    "7. Для каждого курса выведите фамилии самого старшего и самого младшего студентов. Пометьте строки списка словами 'младший' и 'старший', поместив их в дополнительном столбце.\n",
    "\n",
    "8. Напишите запрос для получения полного списка университетов вместе с количеством студентов, которые в них учатся. Для университетов, не имеющих студентов, поместите в список фразу ‘Студентов нет’. отсортируйте результат по убыванию числа студентов.\n",
    "\n",
    "9. Напишите запрос для получения полного списка университетов вместе с фамилиями преподавателей, в них работающих. Для университетов, не имеющих преподавателей, поместите в список фразу ‘Преподавателей нет’. результат должен содержать название университета, фамилию и имя преподавателя. отсортируйте результат по фамилии и имени преподавателя.\n",
    "\n",
    "10. Выведите полный список студентов вместе с оценками, полученными ими на экзаменах. Для студентов, не сдававших экзамены, в поле оценки поместите 0."
   ]
  },
  {
   "cell_type": "markdown",
   "id": "5002382e",
   "metadata": {},
   "source": [
    "# Решение"
   ]
  },
  {
   "cell_type": "code",
   "execution_count": 7,
   "id": "931b6b7e",
   "metadata": {},
   "outputs": [],
   "source": [
    "def print_result(stmt):\n",
    "    print(stmt)\n",
    "    result = conn.execute(stmt).fetchall()\n",
    "    print(len(result))\n",
    "    result"
   ]
  },
  {
   "cell_type": "code",
   "execution_count": 8,
   "id": "60777279",
   "metadata": {},
   "outputs": [],
   "source": [
    "st = student.alias('st')\n",
    "em = exam_marks.alias('em')\n",
    "u = university.alias('u')\n",
    "l = lecturer.alias('l')\n",
    "sl = subj_lect.alias('sl')\n",
    "su = subject.alias('su')\n",
    "st2 = student.alias('st2')\n",
    "u2 = university.alias('u2')"
   ]
  },
  {
   "cell_type": "code",
   "execution_count": 20,
   "id": "59941c96",
   "metadata": {
    "scrolled": false
   },
   "outputs": [
    {
     "name": "stdout",
     "output_type": "stream",
     "text": [
      "SELECT 'Высокий' AS Rating, u.univ_name, u.city, u.rating \n",
      "FROM university AS u \n",
      "WHERE u.rating >= :rating_1 UNION SELECT 'Низкий', u.univ_name, u.city, u.rating \n",
      "FROM university AS u \n",
      "WHERE u.rating < :rating_2 ORDER BY Rating, univ_name\n",
      "\n",
      "12\n"
     ]
    },
    {
     "data": {
      "text/plain": [
       "[('Высокий', 'БГУ', 'Белгород', 326),\n",
       " ('Высокий', 'ВГМА', 'Воронеж', 327),\n",
       " ('Высокий', 'МГТУ им. Баумана', 'Москва', 372),\n",
       " ('Высокий', 'МГУ', 'Москва', 606),\n",
       " ('Высокий', 'МФТИ', 'Москва', 500),\n",
       " ('Высокий', 'НГУ', 'Новосибирск', 345),\n",
       " ('Высокий', 'РГУ', 'Ростов', 416),\n",
       " ('Высокий', 'ТГУ', 'Томск', 368),\n",
       " ('Высокий', 'ФГБОУ \"Политех\"', 'Санкт-Петербург', 304),\n",
       " ('Высокий', 'ФинУ', 'Москва', 330)]"
      ]
     },
     "execution_count": 20,
     "metadata": {},
     "output_type": "execute_result"
    }
   ],
   "source": [
    "# 1. Создайте объединение двух запросов, которые выдают значения полей univ_name, city, rating для всех университетов. \n",
    "# Те из них, у которых рейтинг равен или выше 300, должны иметь комментарий ‘высокий’, все остальные — ‘низкий’.\n",
    "\n",
    "\n",
    "s1 = select(text(\"'Высокий' AS Rating\"),u.c.univ_name, u.c.city, u.c.rating)\n",
    "s1 = s1.where(u.c.rating >= 300)\n",
    "\n",
    "s2 = select(text(\"'Низкий'\"),u.c.univ_name, u.c.city, u.c.rating)\n",
    "s2 = s2.where(u.c.rating < 300)\n",
    "\n",
    "stmt = union(s1,s2)\n",
    "stmt = stmt.order_by(text('Rating'), u.c.univ_name)\n",
    "\n",
    "\n",
    "print_result(stmt)"
   ]
  },
  {
   "cell_type": "code",
   "execution_count": 21,
   "id": "e0ebeee1",
   "metadata": {},
   "outputs": [
    {
     "name": "stdout",
     "output_type": "stream",
     "text": [
      "SELECT 'Успевает', st.student_id, st.surname, st.name \n",
      "FROM student AS st \n",
      "WHERE NOT (EXISTS (SELECT em.student_id \n",
      "FROM exam_marks AS em \n",
      "WHERE em.student_id = st.student_id AND em.mark < :mark_1)) AND (EXISTS (SELECT em.student_id \n",
      "FROM exam_marks AS em \n",
      "WHERE em.student_id = st.student_id)) UNION SELECT 'Не успевает', st.student_id, st.surname, st.name \n",
      "FROM student AS st \n",
      "WHERE EXISTS (SELECT em.student_id \n",
      "FROM exam_marks AS em \n",
      "WHERE em.student_id = st.student_id AND em.mark < :mark_2) UNION SELECT 'Не сдавал', st.student_id, st.surname, st.name \n",
      "FROM student AS st \n",
      "WHERE NOT (EXISTS (SELECT em.student_id \n",
      "FROM exam_marks AS em \n",
      "WHERE em.student_id = st.student_id))\n",
      "\n",
      "84\n"
     ]
    },
    {
     "data": {
      "text/plain": [
       "[('Не сдавал', 3, 'Петров', 'Петр'),\n",
       " ('Не сдавал', 56, 'Дуб', 'Елизавета'),\n",
       " ('Не сдавал', 57, 'Кудряшова', 'Вера'),\n",
       " ('Не сдавал', 58, 'Журавлева', 'Вера'),\n",
       " ('Не сдавал', 60, 'Рожкова', 'Пелагея'),\n",
       " ('Не сдавал', 61, 'Соколова', 'Ия'),\n",
       " ('Не сдавал', 66, 'Некрасова', 'Вероника'),\n",
       " ('Не сдавал', 68, 'Казакова', 'Ольга'),\n",
       " ('Не сдавал', 69, 'Шубина', 'Елена'),\n",
       " ('Не сдавал', 70, 'Миронова', 'Анна')]"
      ]
     },
     "execution_count": 21,
     "metadata": {},
     "output_type": "execute_result"
    }
   ],
   "source": [
    "# 2. Напишите команду, которая выдает список фамилий студентов с комментарием: 'успевает' у студентов, \n",
    "#     имеющих все положительные оценки; 'не успевает' для сдававших экзамены, \n",
    "#     но имеющих хотя бы одну неудовлетворительную оценку; 'не сдавал' — для всех остальных. \n",
    "#     В выводимом результате фамилии студентов упорядочите по алфавиту.\n",
    "\n",
    "\n",
    "s1 = select(em.c.student_id)\n",
    "s1 = s1.where(em.c.student_id == st.c.student_id).exists() #сдавал\n",
    "\n",
    "s2 = select(em.c.student_id)\n",
    "s2 = s2.where(em.c.student_id == st.c.student_id)\n",
    "s2 = s2.where(em.c.mark < 4).exists() #есть оценка меньше 4\n",
    "\n",
    "s3 = select(em.c.student_id)\n",
    "s3 = s3.where(em.c.student_id == st.c.student_id)\n",
    "s3 = s3.where(em.c.mark < 3).exists() # не успевает\n",
    "\n",
    "s4 = select(text(\"'Не сдавал'\"),st.c.student_id, st.c.surname, st.c.name)\n",
    "s4 = s4.where(~s1)\n",
    "\n",
    "s5 = select(text(\"'Успевает'\"),st.c.student_id, st.c.surname, st.c.name)\n",
    "s5 = s5.where(~s2).where(s1)\n",
    "\n",
    "s6 = select(text(\"'Не успевает'\"),st.c.student_id, st.c.surname, st.c.name)\n",
    "s6 = s6.where(s3)\n",
    "\n",
    "stmt = union(s5, s6, s4)\n",
    "# stmt = stmt.order_by() по фамилии\n",
    "\n",
    "\n",
    "print_result(stmt)"
   ]
  },
  {
   "cell_type": "code",
   "execution_count": 22,
   "id": "a79038ed",
   "metadata": {},
   "outputs": [
    {
     "name": "stdout",
     "output_type": "stream",
     "text": [
      "SELECT 'Студент', st.surname, st.name \n",
      "FROM student AS st \n",
      "WHERE st.city = :city_1 UNION SELECT 'Преподаватель', l.surname, l.name \n",
      "FROM lecturer AS l \n",
      "WHERE l.city = :city_2\n",
      "\n",
      "5\n"
     ]
    },
    {
     "data": {
      "text/plain": [
       "[('Преподаватель', 'Лагутин', 'Павел'),\n",
       " ('Преподаватель', 'Струков', 'Николай'),\n",
       " ('Студент', 'Баранов', 'Александр'),\n",
       " ('Студент', 'Миронова', 'Федор'),\n",
       " ('Студент', 'Сидоров', 'Вадим')]"
      ]
     },
     "execution_count": 22,
     "metadata": {},
     "output_type": "execute_result"
    }
   ],
   "source": [
    "# 3. Выведите объединенный список студентов и преподавателей, живущих в Москве, \n",
    "# с соответствующими комментариями 'студент' или 'преподаватель'.\n",
    "\n",
    "\n",
    "s1 = select(text(\"'Студент'\"),st.c.surname, st.c.name)\n",
    "s1 = s1.where(st.c.city == 'Москва')\n",
    "\n",
    "s2 = select(text(\"'Преподаватель'\"),l.c.surname, l.c.name)\n",
    "s2 = s2.where(l.c.city == 'Москва')\n",
    "\n",
    "\n",
    "stmt = union(s1, s2)\n",
    "# stmt = stmt.order_by() по фамилии\n",
    "\n",
    "\n",
    "print_result(stmt)"
   ]
  },
  {
   "cell_type": "code",
   "execution_count": 12,
   "id": "a89a7484",
   "metadata": {},
   "outputs": [
    {
     "name": "stdout",
     "output_type": "stream",
     "text": [
      "SELECT 'Студент' AS Status, st.surname, st.name \n",
      "FROM student AS st \n",
      "WHERE st.univ_id = (SELECT u.univ_id \n",
      "FROM university AS u \n",
      "WHERE u.univ_name = :univ_name_1) UNION SELECT 'Преподаватель' AS Status, l.surname, l.name \n",
      "FROM lecturer AS l \n",
      "WHERE l.univ_id = (SELECT u.univ_id \n",
      "FROM university AS u \n",
      "WHERE u.univ_name = :univ_name_1)\n",
      "24\n"
     ]
    },
    {
     "data": {
      "text/plain": [
       "[('Преподаватель', 'Алексеев', 'Елисей'),\n",
       " ('Преподаватель', 'Зайцева', 'Юлия'),\n",
       " ('Преподаватель', 'Зыкова', 'Оксана'),\n",
       " ('Преподаватель', 'Колесников', 'Борис'),\n",
       " ('Преподаватель', 'Максимова', 'Иванна'),\n",
       " ('Преподаватель', 'Николаев', 'Виктор'),\n",
       " ('Преподаватель', 'Никонов', 'Иван'),\n",
       " ('Преподаватель', 'Сорокин', 'Андрей'),\n",
       " ('Студент', 'Агафонов', 'Василий'),\n",
       " ('Студент', 'Аксенов', 'Валерий'),\n",
       " ('Студент', 'Белкин', 'Вадим'),\n",
       " ('Студент', 'Борисова', 'Марина'),\n",
       " ('Студент', 'Жданова', 'Ирина'),\n",
       " ('Студент', 'Зайцева', 'Ольга'),\n",
       " ('Студент', 'Иванов', 'Иван'),\n",
       " ('Студент', 'Кузнецов', 'Борис'),\n",
       " ('Студент', 'Лукин', 'Артем'),\n",
       " ('Студент', 'Мельникова', 'Дарья'),\n",
       " ('Студент', 'Некрасова', 'Вероника'),\n",
       " ('Студент', 'Павлов', 'Андрей'),\n",
       " ('Студент', 'Петров', 'Петр'),\n",
       " ('Студент', 'Семенова', 'Вероника'),\n",
       " ('Студент', 'Сергеева', 'Фёкла'),\n",
       " ('Студент', 'Федоров', 'Гостомысл')]"
      ]
     },
     "execution_count": 12,
     "metadata": {},
     "output_type": "execute_result"
    }
   ],
   "source": [
    "# 4. Выведите объединенный список студентов и преподавателей ВГУ с соответствующими комментариями 'студент' или 'преподаватель'.\n",
    "\n",
    "\n",
    "sq = select(u.c.univ_id)\n",
    "sq = sq.where(u.c.univ_name == 'ВГУ').scalar_subquery()\n",
    "\n",
    "s1 = select(text(\"'Студент' AS Status\"), st.c.surname, st.c.name )\n",
    "s1 = s1.where(st.c.univ_id == sq)\n",
    "\n",
    "s2 = select(text(\"'Преподаватель' AS Status\"), l.c.surname, l.c.name )\n",
    "s2 = s2.where(l.c.univ_id == sq)\n",
    "\n",
    "stmt = union(s1, s2)\n",
    "\n",
    "print(stmt)\n",
    "result = conn.execute(stmt).fetchall()\n",
    "print(len(result))\n",
    "result"
   ]
  },
  {
   "cell_type": "code",
   "execution_count": 23,
   "id": "f9ae734d",
   "metadata": {},
   "outputs": [
    {
     "name": "stdout",
     "output_type": "stream",
     "text": [
      "SELECT 'max' AS Rating, u.city, u.univ_name, max(u.rating) AS max_1 \n",
      "FROM university AS u GROUP BY u.city UNION SELECT 'min' AS Rating, u.city, u.univ_name, min(u.rating) AS min_1 \n",
      "FROM university AS u GROUP BY u.city ORDER BY city\n",
      "\n",
      "18\n"
     ]
    },
    {
     "data": {
      "text/plain": [
       "[('max', 'Белгород', 'БГУ', 326),\n",
       " ('min', 'Белгород', 'БГУ', 326),\n",
       " ('max', 'Воронеж', 'ВГМА', 327),\n",
       " ('min', 'Воронеж', 'ВГУ', 296),\n",
       " ('max', 'Казань', 'КФУ', None),\n",
       " ('min', 'Казань', 'КФУ', None),\n",
       " ('max', 'Москва', 'МГУ', 606),\n",
       " ('min', 'Москва', 'ФинУ', 330),\n",
       " ('max', 'Новосибирск', 'НГУ', 345),\n",
       " ('min', 'Новосибирск', 'НГУ', 345)]"
      ]
     },
     "execution_count": 23,
     "metadata": {},
     "output_type": "execute_result"
    }
   ],
   "source": [
    "# 5. Для каждого города выведите названия университетов с минимальным и максимальным для данного города рейтингом. \n",
    "# Пометьте строки списка словами ‘min’ и ‘max’, поместив их в дополнительном столбце. \n",
    "# Результат должен содержать название города, название университета, рейтинг. Упорядочите результат по городу.\n",
    "\n",
    "\n",
    "s1 = select(text(\"'max' AS Rating\"), u.c.city, u.c.univ_name, func.max(u.c.rating))\n",
    "s1 = s1.group_by( u.c.city)\n",
    "\n",
    "s2 = select(text(\"'min' AS Rating\"), u.c.city, u.c.univ_name, func.min(u.c.rating))\n",
    "s2 = s2.group_by( u.c.city)\n",
    "\n",
    "stmt = union(s1, s2).order_by(u.c.city)\n",
    "\n",
    "\n",
    "print_result(stmt)"
   ]
  },
  {
   "cell_type": "code",
   "execution_count": 24,
   "id": "02894ae6",
   "metadata": {},
   "outputs": [
    {
     "name": "stdout",
     "output_type": "stream",
     "text": [
      "SELECT 'max' AS Rating, st.kurs, st.surname, max(st.stipend) AS max_1 \n",
      "FROM student AS st GROUP BY st.kurs UNION SELECT 'min' AS Rating, st.kurs, st.surname, min(st.stipend) AS min_1 \n",
      "FROM student AS st GROUP BY st.kurs ORDER BY kurs\n",
      "\n",
      "10\n"
     ]
    },
    {
     "data": {
      "text/plain": [
       "[('max', 1, 'Жук', 250),\n",
       " ('min', 1, 'Васильева', 0),\n",
       " ('max', 2, 'Зайцева', 250),\n",
       " ('min', 2, 'Кузнецов', 0),\n",
       " ('max', 3, 'Блохина', 250),\n",
       " ('min', 3, 'Рожкова', 0),\n",
       " ('max', 4, 'Казакова', 250),\n",
       " ('min', 4, 'Журавлева', 0),\n",
       " ('max', 5, 'Белкин', 250),\n",
       " ('min', 5, 'Кудряшова', 100)]"
      ]
     },
     "execution_count": 24,
     "metadata": {},
     "output_type": "execute_result"
    }
   ],
   "source": [
    "# 6. Для каждого курса выведите фамилии студентов, получающих минимальные и максимальные на их курсе стипендии. \n",
    "# Пометьте строки списка словами ‘min’ и ‘max’, поместив их в дополнительном столбце.\n",
    "\n",
    "\n",
    "s1 = select(text(\"'max' AS Rating\"), st.c.kurs, st.c.surname, func.max(st.c.stipend))\n",
    "s1 = s1.group_by(  st.c.kurs)\n",
    "\n",
    "s2 = select(text(\"'min' AS Rating\"), st.c.kurs, st.c.surname, func.min(st.c.stipend))\n",
    "s2 = s2.group_by( st.c.kurs)\n",
    "\n",
    "stmt = union(s1, s2).order_by(st.c.kurs)\n",
    "\n",
    "\n",
    "print_result(stmt)"
   ]
  },
  {
   "cell_type": "code",
   "execution_count": 25,
   "id": "2c44e787",
   "metadata": {},
   "outputs": [
    {
     "name": "stdout",
     "output_type": "stream",
     "text": [
      "SELECT 'младший' AS Rating, st.kurs, st.surname, max(date(st.birthday)) AS max_1 \n",
      "FROM student AS st GROUP BY st.kurs UNION SELECT 'старший' AS Rating, st.kurs, st.surname, min(date(st.birthday)) AS min_1 \n",
      "FROM student AS st GROUP BY st.kurs ORDER BY kurs\n",
      "\n",
      "10\n"
     ]
    },
    {
     "data": {
      "text/plain": [
       "[('младший', 1, 'Ордуханян', '2003-06-01'),\n",
       " ('старший', 1, 'Васильева', '1994-05-14'),\n",
       " ('младший', 2, 'Некрасова', '2004-08-23'),\n",
       " ('старший', 2, 'Ковалев', '1995-11-28'),\n",
       " ('младший', 3, 'Семенова', '2003-10-04'),\n",
       " ('старший', 3, 'Сорокина', '1993-09-28'),\n",
       " ('младший', 4, 'Журавлева', '2003-06-14'),\n",
       " ('старший', 4, 'Казакова', '1994-02-18'),\n",
       " ('младший', 5, 'Ситников', '2003-10-05'),\n",
       " ('старший', 5, 'Трофимов', '1995-03-24')]"
      ]
     },
     "execution_count": 25,
     "metadata": {},
     "output_type": "execute_result"
    }
   ],
   "source": [
    "# 7. Для каждого курса выведите фамилии самого старшего и самого младшего студентов. \n",
    "# Пометьте строки списка словами 'младший' и 'старший', поместив их в дополнительном столбце.\n",
    "\n",
    "\n",
    "s1 = select(text(\"'младший' AS Rating\"), st.c.kurs, st.c.surname, func.max(func.date(st.c.birthday)))\n",
    "s1 = s1.group_by(  st.c.kurs)\n",
    "\n",
    "s2 = select(text(\"'старший' AS Rating\"), st.c.kurs, st.c.surname, func.min(func.date(st.c.birthday)))\n",
    "s2 = s2.group_by( st.c.kurs)\n",
    "\n",
    "stmt = union(s1, s2).order_by(st.c.kurs)\n",
    "\n",
    "\n",
    "print_result(stmt)"
   ]
  },
  {
   "cell_type": "code",
   "execution_count": 26,
   "id": "6bced42a",
   "metadata": {},
   "outputs": [
    {
     "name": "stdout",
     "output_type": "stream",
     "text": [
      "SELECT u.univ_id, u.univ_name, count(st.surname) AS count_1, \"Студенты есть\" \n",
      "FROM university AS u JOIN student AS st ON u.univ_id = st.univ_id GROUP BY u.univ_id UNION SELECT u.univ_id, u.univ_name, 0 AS Количество, \"Студентов нет\" \n",
      "FROM university AS u \n",
      "WHERE NOT (EXISTS (SELECT u.univ_id \n",
      "FROM student AS st \n",
      "WHERE u.univ_id = st.univ_id)) ORDER BY count(surname) DESC\n",
      "\n",
      "13\n"
     ]
    },
    {
     "data": {
      "text/plain": [
       "[(10, 'ВГУ', 16, 'Студенты есть'),\n",
       " (22, 'МГУ', 10, 'Студенты есть'),\n",
       " (44, 'ФинУ', 10, 'Студенты есть'),\n",
       " (14, 'БГУ', 9, 'Студенты есть'),\n",
       " (46, 'ФГБОУ \"Политех\"', 9, 'Студенты есть'),\n",
       " (18, 'ВГМА', 7, 'Студенты есть'),\n",
       " (32, 'РГУ', 7, 'Студенты есть'),\n",
       " (47, 'КФУ', 6, 'Студенты есть'),\n",
       " (45, 'МГТУ им. Баумана', 5, 'Студенты есть'),\n",
       " (48, 'УЛГУ', 5, 'Студенты есть')]"
      ]
     },
     "execution_count": 26,
     "metadata": {},
     "output_type": "execute_result"
    }
   ],
   "source": [
    "# 8. Напишите запрос для получения полного списка университетов вместе с количеством студентов, которые в них учатся. \n",
    "# Для университетов, не имеющих студентов, поместите в список фразу ‘Студентов нет’. \n",
    "# отсортируйте результат по убыванию числа студентов.\n",
    "\n",
    "\n",
    "sq = select(u.c.univ_id)\n",
    "sq = sq.where(u.c.univ_id == st.c.univ_id).exists() # Сдавал что-то\n",
    "\n",
    "s1 = select(u.c.univ_id, u.c.univ_name, func.count(st.c.surname), text('\"Студенты есть\"'))\n",
    "s1 = s1.join(st)\n",
    "s1 = s1.group_by(u.c.univ_id)\n",
    "\n",
    "\n",
    "s2 = select(u.c.univ_id, u.c.univ_name, text('0 AS Количество'), text('\"Студентов нет\"'))\n",
    "s2 = s2.where(~sq )\n",
    "\n",
    "\n",
    "stmt = union(s1, s2)\n",
    "stmt = stmt.order_by(func.count(st.c.surname).desc())\n",
    "\n",
    "\n",
    "print_result(stmt)"
   ]
  },
  {
   "cell_type": "code",
   "execution_count": 27,
   "id": "b1549f6b",
   "metadata": {},
   "outputs": [
    {
     "name": "stdout",
     "output_type": "stream",
     "text": [
      "SELECT u.univ_id, u.univ_name, l.surname, l.name \n",
      "FROM university AS u JOIN lecturer AS l ON u.univ_id = l.univ_id UNION SELECT u.univ_id, u.univ_name, 'Преподавателей нет' AS Status, NULL \n",
      "FROM university AS u \n",
      "WHERE NOT (EXISTS (SELECT u.univ_id \n",
      "FROM lecturer AS l \n",
      "WHERE u.univ_id = l.univ_id)) ORDER BY surname, name\n",
      "\n",
      "32\n"
     ]
    },
    {
     "data": {
      "text/plain": [
       "[(10, 'ВГУ', 'Алексеев', 'Елисей'),\n",
       " (18, 'ВГМА', 'Артемьева', 'Майя'),\n",
       " (32, 'РГУ', 'Беляков', 'Мефодий'),\n",
       " (15, 'ТГУ', 'Беспалов', 'Юлиан'),\n",
       " (18, 'ВГМА', 'Богданова', 'Оксана'),\n",
       " (48, 'УЛГУ', 'Брагина', 'Нинель'),\n",
       " (45, 'МГТУ им. Баумана', 'Волков', 'Михаил'),\n",
       " (48, 'УЛГУ', 'Дмитриева', 'Оксана'),\n",
       " (32, 'РГУ', 'Дорофеев', 'Прокофий'),\n",
       " (48, 'УЛГУ', 'Елисеев', 'Виссарион')]"
      ]
     },
     "execution_count": 27,
     "metadata": {},
     "output_type": "execute_result"
    }
   ],
   "source": [
    "# 9. Напишите запрос для получения полного списка университетов вместе с фамилиями преподавателей, в них работающих. \n",
    "# Для университетов, не имеющих преподавателей, поместите в список фразу ‘Преподавателей нет’. \n",
    "# результат должен содержать название университета, фамилию и имя преподавателя. \n",
    "# отсортируйте результат по фамилии и имени преподавателя.\n",
    "\n",
    "\n",
    "sq = select(u.c.univ_id)\n",
    "sq = sq.where(u.c.univ_id == l.c.univ_id).exists() \n",
    "\n",
    "s1 = select(u.c.univ_id, u.c.univ_name, l.c.surname, l.c.name)\n",
    "s1 = s1.join(l)\n",
    "\n",
    "s2 = select(u.c.univ_id, u.c.univ_name, text(\"'Преподавателей нет' AS Status\"), text('NULL'))\n",
    "s2 = s2.where(~sq)\n",
    "\n",
    "\n",
    "stmt = union(s1, s2)\n",
    "stmt = stmt.order_by(l.c.surname, l.c.name)\n",
    "\n",
    "\n",
    "print_result(stmt)"
   ]
  },
  {
   "cell_type": "code",
   "execution_count": 28,
   "id": "9e5f2349",
   "metadata": {},
   "outputs": [
    {
     "name": "stdout",
     "output_type": "stream",
     "text": [
      "SELECT 'Сдавал', st.student_id, st.surname, st.name, em.mark \n",
      "FROM student AS st JOIN exam_marks AS em ON st.student_id = em.student_id \n",
      "WHERE em.mark != :mark_1 UNION SELECT 'Не сдавал', st.student_id, st.surname, st.name, 0 \n",
      "FROM student AS st \n",
      "WHERE NOT (EXISTS (SELECT em.student_id \n",
      "FROM exam_marks AS em \n",
      "WHERE em.student_id = st.student_id))\n",
      "\n",
      "97\n"
     ]
    },
    {
     "data": {
      "text/plain": [
       "[('Не сдавал', 3, 'Петров', 'Петр', 0),\n",
       " ('Не сдавал', 56, 'Дуб', 'Елизавета', 0),\n",
       " ('Не сдавал', 57, 'Кудряшова', 'Вера', 0),\n",
       " ('Не сдавал', 58, 'Журавлева', 'Вера', 0),\n",
       " ('Не сдавал', 60, 'Рожкова', 'Пелагея', 0),\n",
       " ('Не сдавал', 61, 'Соколова', 'Ия', 0),\n",
       " ('Не сдавал', 66, 'Некрасова', 'Вероника', 0),\n",
       " ('Не сдавал', 68, 'Казакова', 'Ольга', 0),\n",
       " ('Не сдавал', 69, 'Шубина', 'Елена', 0),\n",
       " ('Не сдавал', 70, 'Миронова', 'Анна', 0)]"
      ]
     },
     "execution_count": 28,
     "metadata": {},
     "output_type": "execute_result"
    }
   ],
   "source": [
    "# 10. Выведите полный список студентов вместе с оценками, полученными ими на экзаменах. \n",
    "# Для студентов, не сдававших экзамены, в поле оценки поместите 0.\n",
    "\n",
    "\n",
    "s1 = select(em.c.student_id)\n",
    "s1 = s1.where(em.c.student_id == st.c.student_id).exists() # Сдавал что-то\n",
    "\n",
    "\n",
    "s4 = select(text(\"'Не сдавал'\"), st.c.student_id, st.c.surname, st.c.name, text(\"0\"))\n",
    "s4 = s4.where(~s1)\n",
    "\n",
    "s5 = select(text(\"'Сдавал'\"), st.c.student_id, st.c.surname, st.c.name, em.c.mark)\n",
    "s5 = s5.where(em.c.mark != \"None\")\n",
    "s5 = s5.join(em)\n",
    "\n",
    "\n",
    "stmt = union(s5, s4)\n",
    "\n",
    "\n",
    "print_result(stmt)"
   ]
  },
  {
   "cell_type": "code",
   "execution_count": null,
   "id": "feaf0804",
   "metadata": {},
   "outputs": [],
   "source": []
  }
 ],
 "metadata": {
  "kernelspec": {
   "display_name": "Python 3 (ipykernel)",
   "language": "python",
   "name": "python3"
  },
  "language_info": {
   "codemirror_mode": {
    "name": "ipython",
    "version": 3
   },
   "file_extension": ".py",
   "mimetype": "text/x-python",
   "name": "python",
   "nbconvert_exporter": "python",
   "pygments_lexer": "ipython3",
   "version": "3.9.7"
  }
 },
 "nbformat": 4,
 "nbformat_minor": 5
}
