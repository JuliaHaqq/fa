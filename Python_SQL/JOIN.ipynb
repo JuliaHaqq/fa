{
 "cells": [
  {
   "cell_type": "markdown",
   "id": "8a01c3c3",
   "metadata": {},
   "source": []
  },
  {
   "cell_type": "code",
   "execution_count": 18,
   "id": "b43644d8",
   "metadata": {},
   "outputs": [],
   "source": [
    "#! pip install sqlalchemy"
   ]
  },
  {
   "cell_type": "code",
   "execution_count": 19,
   "id": "37e97907",
   "metadata": {},
   "outputs": [],
   "source": [
    "from sqlalchemy import MetaData, Table, create_engine, select, and_, or_, not_, text\n",
    "from sqlalchemy.sql import func, distinct, exists\n",
    "import pandas as pd"
   ]
  },
  {
   "cell_type": "code",
   "execution_count": 20,
   "id": "eb4393e8",
   "metadata": {},
   "outputs": [],
   "source": [
    "engine = create_engine('sqlite:///../Data/Students.db')\n",
    "metadata_obj = MetaData() # Объект-контейнер, содержит информацию о схеме данных\n",
    "metadata_obj.reflect(bind=engine) # Отображение БД"
   ]
  },
  {
   "cell_type": "markdown",
   "id": "3797f17f",
   "metadata": {},
   "source": [
    "Создание объектов таблиц"
   ]
  },
  {
   "cell_type": "code",
   "execution_count": 21,
   "id": "6e812caf",
   "metadata": {},
   "outputs": [],
   "source": [
    "exam_marks=Table(\"exam_marks\", metadata_obj, autoload=True, autoload_with=\"engine\")\n",
    "lecturer=Table(\"lecturer\", metadata_obj, autoload=True, autoload_with=\"engine\")\n",
    "student=Table(\"student\", metadata_obj, autoload=True, autoload_with=\"engine\")\n",
    "subj_lect=Table(\"subj_lect\", metadata_obj, autoload=True, autoload_with=\"engine\")\n",
    "subject=Table(\"subject\", metadata_obj, autoload=True, autoload_with=\"engine\")\n",
    "university=Table(\"university\", metadata_obj, autolad=True, autolad_with=\"engine\")"
   ]
  },
  {
   "cell_type": "code",
   "execution_count": 22,
   "id": "5e0c68fe",
   "metadata": {},
   "outputs": [],
   "source": [
    "conn=engine.connect() # Соединение"
   ]
  },
  {
   "cell_type": "markdown",
   "id": "fb742d9f",
   "metadata": {},
   "source": [
    "<img src=../Img/pencil.png style=\"width:190px;height:190px\">\n",
    "<p style=\"background-color:powderblue; font-size:125%; color: rebeccapurple;\">Выполните задания</p>\n",
    "<p>Выполните задания с помощью соедиинения таблиц в Jupyter Notebook </p>\n",
    "\n",
    "1. Составьте список названий университетов с указанием суммарного количества аудиторных часов на изучение каждого предмета.\n",
    "\n",
    "2. Получите список названий университетов вместе с фамилиями и именами студентов, получающих максимальную для каждого университета стипендию.\n",
    "\n",
    "3. Напишите запрос для получения списка преподавателей, преподающих только один предмет. Отсортируйте результат по фамилии преподавателя. Результат должен содержать имя и фамилию преподавателя, название предмета.\n",
    "\n",
    "4. Напишите запрос для получения списка университетов вместе с фамилиями студентов, получивших хотя бы одну отличную оценку. Результат отсортируйте по названию университета.\n",
    "\n",
    "5. Напишите запрос, выполняющий вывод имен и фамилий преподавателей, проводящих занятия на первом курсе. Отсортируйте результат по фаимилии преподавателя.\n",
    "\n",
    "6. Напишите запрос, выполняющий вывод наименований предметов обучения, читаемых двумя или более преподавателями. Результат должен состоять из одного столбца названий предметов, без повторов, в алфавитном порядке по возрастанию."
   ]
  },
  {
   "cell_type": "markdown",
   "id": "5002382e",
   "metadata": {},
   "source": [
    "# Решение"
   ]
  },
  {
   "cell_type": "code",
   "execution_count": 23,
   "id": "248bb093",
   "metadata": {},
   "outputs": [],
   "source": [
    "def print_result(s):\n",
    "    print(s, end = '\\n\\n')\n",
    "    res = conn.execute(s).fetchall()\n",
    "    print(len(res))\n",
    "    return res"
   ]
  },
  {
   "cell_type": "code",
   "execution_count": 24,
   "id": "c81758a4",
   "metadata": {},
   "outputs": [],
   "source": [
    "u = university.alias('u')\n",
    "st = student.alias('st')\n",
    "l = lecturer.alias('l')\n",
    "sl = subj_lect.alias('sl')\n",
    "su = subject.alias('su')\n",
    "em = exam_marks.alias('em')\n",
    "st2 = student.alias('st2')"
   ]
  },
  {
   "cell_type": "code",
   "execution_count": 25,
   "id": "59941c96",
   "metadata": {
    "scrolled": false
   },
   "outputs": [
    {
     "name": "stdout",
     "output_type": "stream",
     "text": [
      "SELECT u.univ_name, su.subj_name, sum(su.hour) AS sum_1 \n",
      "FROM university AS u JOIN lecturer AS l ON u.univ_id = l.univ_id JOIN subj_lect AS sl ON l.lecturer_id = sl.lecturer_id JOIN subject AS su ON su.subj_id = sl.subj_id GROUP BY u.univ_name, su.subj_name\n",
      "\n",
      "22\n"
     ]
    },
    {
     "data": {
      "text/plain": [
       "[('ВГУ', 'Анализ данных', 42),\n",
       " ('ВГУ', 'История', 68),\n",
       " ('ВГУ', 'ОБЖ', 34),\n",
       " ('ВГУ', 'Программирование на языках Python и SQL', 34),\n",
       " ('ВГУ', 'Теория вероятностей и математическая статистика', 72),\n",
       " ('ВГУ', 'Физика', 34),\n",
       " ('КФУ', 'Информатика', 56),\n",
       " ('КФУ', 'История', 34),\n",
       " ('КФУ', 'Математика', 56),\n",
       " ('МГТУ им. Баумана', 'Английский язык', 56),\n",
       " ('МГТУ им. Баумана', 'Программирование на языках Python и SQL', 34),\n",
       " ('МГУ', 'Английский язык', 56),\n",
       " ('МГУ', 'Информатика', 56),\n",
       " ('МГУ', 'ОБЖ', 34),\n",
       " ('НГУ', 'Программирование на языках Python и SQL', 34),\n",
       " ('РГУ', 'Информатика', 56),\n",
       " ('РГУ', 'Программирование на языках Python и SQL', 34),\n",
       " ('ТГУ', 'Информатика', 112),\n",
       " ('ТГУ', 'Физкультура', 34),\n",
       " ('УЛГУ', 'ОБЖ', 34),\n",
       " ('ФГБОУ \"Политех\"', 'Английский язык', 56),\n",
       " ('ФГБОУ \"Политех\"', 'Программирование на языках Python и SQL', 34)]"
      ]
     },
     "execution_count": 25,
     "metadata": {},
     "output_type": "execute_result"
    }
   ],
   "source": [
    "#1. Составьте список названий университетов с указанием суммарного количества аудиторных часов на изучение каждого предмета.\n",
    "\n",
    "\n",
    "s = select(u.c.univ_name, su.c.subj_name, func.sum(su.c.hour))\n",
    "s = s.select_from(u)\n",
    "s = s.join(l)\n",
    "s = s.join(sl)\n",
    "s = s.join(su)\n",
    "s = s.group_by(u.c.univ_name, su.c.subj_name)\n",
    "\n",
    "print_result(s)"
   ]
  },
  {
   "cell_type": "code",
   "execution_count": 26,
   "id": "538f02b6",
   "metadata": {},
   "outputs": [
    {
     "name": "stdout",
     "output_type": "stream",
     "text": [
      "SELECT u.univ_name, st.surname || :surname_1 || st.name AS anon_1, st.stipend \n",
      "FROM university AS u JOIN student AS st ON u.univ_id = st.univ_id \n",
      "WHERE st.stipend = (SELECT max(st2.stipend) AS max_1 \n",
      "FROM student AS st2 \n",
      "WHERE st2.univ_id = u.univ_id)\n",
      "\n",
      "24\n"
     ]
    },
    {
     "data": {
      "text/plain": [
       "[('ВГУ', 'Зайцева Ольга', 250),\n",
       " ('ВГУ', 'Белкин Вадим', 250),\n",
       " ('КФУ', 'Жук Оксана', 250),\n",
       " ('ВГУ', 'Некрасова Вероника', 250),\n",
       " ('ФинУ', 'Казакова Ольга', 250),\n",
       " ('ФГБОУ \"Политех\"', 'Миронова Анна', 200),\n",
       " ('ВГМА', 'Кондрат Синицин', 200),\n",
       " ('УЛГУ', 'Пономарева Алина', 250),\n",
       " ('ВГМА', 'Валерия Овчинникова', 200),\n",
       " ('МГУ', 'Блохина Ираида', 250),\n",
       " ('ТГУ', 'Мельникова Светлана', 250),\n",
       " ('ФГБОУ \"Политех\"', 'Вишнякова Анжела', 200),\n",
       " ('НГУ', 'Трофимов Владислав', 250),\n",
       " ('ФинУ', 'Морозов Кирилл', 250),\n",
       " ('БГУ', 'Суханов Константин', 250),\n",
       " ('РГУ', 'Панов Арсений', 250),\n",
       " ('РГУ', 'Кудряшов Роман', 250),\n",
       " ('ВГМА', 'Журавлев Фома', 200),\n",
       " ('МГУ', 'Ершов Митрофан', 250),\n",
       " ('КФУ', 'Русаков Давид', 250),\n",
       " ('БГУ', 'Вячеслав Пахомов', 250),\n",
       " ('БГУ', 'Петрова Екатерина', 250),\n",
       " ('ФинУ', 'Петров Вадим', 250),\n",
       " ('МГТУ им. Баумана', 'Миронова Федор', 200)]"
      ]
     },
     "execution_count": 26,
     "metadata": {},
     "output_type": "execute_result"
    }
   ],
   "source": [
    "# 2. Получите список названий университетов вместе с фамилиями и именами студентов, \n",
    "# получающих максимальную для каждого университета стипендию.\n",
    "\n",
    "\n",
    "subq = select(func.max(st2.c.stipend))\n",
    "subq = subq.where(st2.c.univ_id == u.c.univ_id).scalar_subquery() # когда единственное, берем скаляр\n",
    "\n",
    "s = select(u.c.univ_name, st.c.surname + ' ' + st.c.name, st.c.stipend)\n",
    "s = s.select_from(u)\n",
    "s = s.join(st)\n",
    "s = s.where(st.c.stipend == subq)\n",
    "\n",
    "print_result(s)"
   ]
  },
  {
   "cell_type": "code",
   "execution_count": 27,
   "id": "0c08e277",
   "metadata": {},
   "outputs": [
    {
     "name": "stdout",
     "output_type": "stream",
     "text": [
      "SELECT l.surname || :surname_1 || l.name AS anon_1 \n",
      "FROM lecturer AS l JOIN subj_lect AS sl ON l.lecturer_id = sl.lecturer_id GROUP BY l.surname || :surname_2 || l.name \n",
      "HAVING count(sl.subj_id) = :count_1\n",
      "\n",
      "12\n"
     ]
    },
    {
     "data": {
      "text/plain": [
       "[('Алексеев Елисей',),\n",
       " ('Беляков Мефодий',),\n",
       " ('Брагина Нинель',),\n",
       " ('Дорофеев Прокофий',),\n",
       " ('Зимин Юлиан',),\n",
       " ('Колесников Борис',),\n",
       " ('Кудрявцева Анна',),\n",
       " ('Лагутин Павел',),\n",
       " ('Мамонтова Акулина',),\n",
       " ('Никонов Иван',),\n",
       " ('Сафонова Лукия',),\n",
       " ('Тихонов Ладомир',)]"
      ]
     },
     "execution_count": 27,
     "metadata": {},
     "output_type": "execute_result"
    }
   ],
   "source": [
    "# 3. Напишите запрос для получения списка преподавателей, преподающих только один предмет. \n",
    "# Отсортируйте результат по фамилии преподавателя. \n",
    "# Результат должен содержать имя и фамилию преподавателя, название предмета.\n",
    "\n",
    "\n",
    "s = select(l.c.surname + ' ' + l.c.name)\n",
    "s = s.select_from(l)\n",
    "s = s.join(sl)\n",
    "s = s.group_by(l.c.surname + ' ' + l.c.name)\n",
    "s = s.having(func.count(sl.c.subj_id) == 1)\n",
    "\n",
    "print_result(s)"
   ]
  },
  {
   "cell_type": "code",
   "execution_count": 28,
   "id": "5165a3d5",
   "metadata": {},
   "outputs": [
    {
     "name": "stdout",
     "output_type": "stream",
     "text": [
      "SELECT DISTINCT u.univ_name, st.surname || :surname_1 || st.name AS anon_1 \n",
      "FROM university AS u JOIN student AS st ON u.univ_id = st.univ_id JOIN exam_marks AS em ON st.student_id = em.student_id \n",
      "WHERE em.mark = :mark_1 GROUP BY u.univ_name, st.surname || :surname_2 || st.name\n",
      "\n",
      "10\n"
     ]
    },
    {
     "data": {
      "text/plain": [
       "[('ВГУ', 'Белкин Вадим'),\n",
       " ('ВГУ', 'Борисова Марина'),\n",
       " ('ВГУ', 'Жданова Ирина'),\n",
       " ('ВГУ', 'Зайцева Ольга'),\n",
       " ('ВГУ', 'Кузнецов Борис'),\n",
       " ('МГТУ им. Баумана', 'Лапина Элеонора'),\n",
       " ('МГУ', 'Блохина Ираида'),\n",
       " ('ТГУ', 'Мельникова Светлана'),\n",
       " ('ТГУ', 'Пак Ирина'),\n",
       " ('ФГБОУ \"Политех\"', 'Васильев Матвей')]"
      ]
     },
     "execution_count": 28,
     "metadata": {},
     "output_type": "execute_result"
    }
   ],
   "source": [
    "# 4. Напишите запрос для получения списка университетов вместе с фамилиями студентов, \n",
    "# получивших хотя бы одну отличную оценку. \n",
    "# Результат отсортируйте по названию университета.\n",
    "\n",
    "\n",
    "s = select(u.c.univ_name, st.c.surname + ' ' + st.c.name).distinct()\n",
    "s = s.where(em.c.mark == 5)\n",
    "s = s.select_from(u)\n",
    "s = s.join(st)\n",
    "s = s.join(em)\n",
    "s = s.group_by(u.c.univ_name, st.c.surname + ' ' + st.c.name)\n",
    "\n",
    "print_result(s)"
   ]
  },
  {
   "cell_type": "code",
   "execution_count": 29,
   "id": "9c13fa8b",
   "metadata": {},
   "outputs": [
    {
     "name": "stdout",
     "output_type": "stream",
     "text": [
      "SELECT l.surname || :surname_1 || l.name AS anon_1 \n",
      "FROM lecturer AS l JOIN subj_lect AS sl ON l.lecturer_id = sl.lecturer_id JOIN subject AS su ON su.subj_id = sl.subj_id \n",
      "WHERE su.semester < :semester_1 GROUP BY l.surname || :surname_2 || l.name\n",
      "\n",
      "14\n"
     ]
    },
    {
     "data": {
      "text/plain": [
       "[('Алексеев Елисей',),\n",
       " ('Беляков Мефодий',),\n",
       " ('Беспалов Юлиан',),\n",
       " ('Брагина Нинель',),\n",
       " ('Волков Михаил',),\n",
       " ('Дорофеев Прокофий',),\n",
       " ('Зимин Юлиан',),\n",
       " ('Колесников Борис',),\n",
       " ('Кудрявцева Анна',),\n",
       " ('Куликова Ираида',),\n",
       " ('Максимова Иванна',),\n",
       " ('Мамонтова Акулина',),\n",
       " ('Струков Николай',),\n",
       " ('Тихонов Ладомир',)]"
      ]
     },
     "execution_count": 29,
     "metadata": {},
     "output_type": "execute_result"
    }
   ],
   "source": [
    "# 5. Напишите запрос, выполняющий вывод имен и фамилий преподавателей, \n",
    "# проводящих занятия на первом курсе. Отсортируйте результат по фаимилии преподавателя.\n",
    "\n",
    "\n",
    "s = select(l.c.surname + ' ' + l.c.name)\n",
    "s = s.where(su.c.semester < 3)\n",
    "s = s.select_from(l)\n",
    "s = s.join(sl)\n",
    "s = s.join(su)\n",
    "s = s.group_by(l.c.surname + ' ' + l.c.name)\n",
    "\n",
    "print_result(s)"
   ]
  },
  {
   "cell_type": "code",
   "execution_count": 30,
   "id": "7d0ff1f3",
   "metadata": {},
   "outputs": [
    {
     "name": "stdout",
     "output_type": "stream",
     "text": [
      "SELECT su.subj_name \n",
      "FROM subject AS su JOIN subj_lect AS sl ON su.subj_id = sl.subj_id JOIN lecturer AS l ON l.lecturer_id = sl.lecturer_id GROUP BY su.subj_name \n",
      "HAVING count(sl.lecturer_id) > :count_1 ORDER BY su.subj_name\n",
      "\n",
      "5\n"
     ]
    },
    {
     "data": {
      "text/plain": [
       "[('Английский язык',),\n",
       " ('Информатика',),\n",
       " ('История',),\n",
       " ('ОБЖ',),\n",
       " ('Программирование на языках Python и SQL',)]"
      ]
     },
     "execution_count": 30,
     "metadata": {},
     "output_type": "execute_result"
    }
   ],
   "source": [
    "# 6. Напишите запрос, выполняющий вывод наименований предметов обучения, \n",
    "# читаемых двумя или более преподавателями. Результат должен состоять из одного столбца названий предметов, \n",
    "# без повторов, в алфавитном порядке по возрастанию.\n",
    "\n",
    "\n",
    "s = select(su.c.subj_name)\n",
    "s = s.select_from(su)\n",
    "s = s.join(sl)\n",
    "s = s.join(l)\n",
    "s = s.group_by(su.c.subj_name)\n",
    "s = s.having(func.count(sl.c.lecturer_id) > 1) # в where нельзя использовать функции агрегации\n",
    "s = s.order_by(su.c.subj_name)\n",
    "\n",
    "print_result(s)"
   ]
  },
  {
   "cell_type": "markdown",
   "id": "31963a08",
   "metadata": {},
   "source": [
    "<img src=\"../Img/Python_SQL_PI.png\" style=\"width:100%\">\n",
    "\n",
    "\n",
    "<p style=\"font-size:22px;text-align:center\">Семинар 5.1. Соединение таблиц. Оператор JOIN</p> \n",
    "\n",
    "<a id = Home></a>\n",
    "\n",
    "**11 апреля 2022 года, пн**<br>\n",
    "10:10 - 11:40<br>\n",
    "Щ38/509(кк) (ул. Щербаковская, 38)<br>\n",
    "ПИ20-1, ПИ20-2, ПИ20-3, ПИ20-4, ПИ20-5, ПИ20-6 (4 подгруппа)<br>\n",
    "\n",
    "11:50 - 13:20<br>\n",
    "Щ38/509(кк) (ул. Щербаковская, 38)<br>\n",
    "Поток:ПИ20-1, ПИ20-2, ПИ20-3, ПИ20-4, ПИ20-5, ПИ20-6 (3 подгруппа)\n",
    "\n",
    "\n",
    "**14 апреля 2022 года, чт**<br>\n",
    "17:20 - 18:50<br>\n",
    "В4/3411(кк) (4-й Вешняковский проезд, 4)<br>\n",
    "ПИ20-1, ПИ20-2, ПИ20-3, ПИ20-4, ПИ20-5, ПИ20-6 (2 подгруппа)<br>\n",
    "\n",
    "\n",
    "**21 апреля 2022 года, чт**<br>\n",
    "18:55 - 20:25<br>\n",
    "В4/3411(кк) (4-й Вешняковский проезд, 4)<br>\n",
    "ПИ20-1, ПИ20-2, ПИ20-3, ПИ20-4, ПИ20-5, ПИ20-6 (1 подгруппа)<br>"
   ]
  },
  {
   "cell_type": "markdown",
   "id": "20042f4c",
   "metadata": {},
   "source": [
    "<p style=\"font-size:22px;text-align:center\">Семинар 5.2. Соединение таблиц. Оператор JOIN</p>\n",
    "\n",
    "**14 апреля 2022 года, чт**<br>\n",
    "18:55 - 20:25<br>\n",
    "В4/3411(кк) (4-й Вешняковский проезд, 4)<br>\n",
    "ПИ20-1, ПИ20-2, ПИ20-3, ПИ20-4, ПИ20-5, ПИ20-6 (2 подгруппа)<br>\n",
    "\n",
    "**18 апреля 2022 года, пн**<br>\n",
    "10:10 - 11:40<br>\n",
    "Щ38/509(кк) (ул. Щербаковская, 38)<br>\n",
    "ПИ20-1, ПИ20-2, ПИ20-3, ПИ20-4, ПИ20-5, ПИ20-6 (3 подгруппа)<br>\n",
    "\n",
    "11:50 - 13:20<br>\n",
    "Щ38/509(кк) (ул. Щербаковская, 38)<br>\n",
    "Поток:ПИ20-1, ПИ20-2, ПИ20-3, ПИ20-4, ПИ20-5, ПИ20-6 (4 подгруппа)<br>\n",
    "\n",
    "**28 апреля 2022 года, чт**<br>\n",
    "17:20 - 18:50<br>\n",
    "В4/3411(кк) (4-й Вешняковский проезд, 4)<br>\n",
    "ПИ20-1, ПИ20-2, ПИ20-3, ПИ20-4, ПИ20-5, ПИ20-6 (1 подгруппа)<br>"
   ]
  },
  {
   "cell_type": "markdown",
   "id": "f6575b35",
   "metadata": {},
   "source": [
    "\n",
    "```\n",
    "STUDENT\n",
    "STUDENT_ID — числовой код, идентифицирующий студента (идентификатор студента),\n",
    "SURNAME — фамилия студента,\n",
    "NAME — имя студента,\n",
    "STIPEND — стипендия, которую получает студент,\n",
    "KURS — курс, на котором учится студент,\n",
    "CITY — город, в котором живет студент,\n",
    "BIRTHDAY — дата рождения студента,\n",
    "UNIV_ID — идентификатор университета, в котором учится студент.\n",
    "\n",
    "\n",
    "LECTURER\n",
    "LECTURER_ID — идентификатор преподавателя,\n",
    "SURNAME — фамилия преподавателя,\n",
    "NAME — имя преподавателя,\n",
    "CITY — город, в котором живет преподаватель,\n",
    "UNIV_ID — идентификатор университета, в котором работает преподаватель\n",
    "\n",
    "\n",
    "SUBJECT\n",
    "SUBJ_ID — идентификатор предмета обучения,\n",
    "SUBJ_NAME — наименование предмета обучения,\n",
    "HOUR — количество часов, отводимых на изучение предмета,\n",
    "SEMESTER — семестр, в котором изучается данный предмет.\n",
    "\n",
    "\n",
    "UNIVERSITY\n",
    "UNIV_ID — идентификатор университета,\n",
    "UNIV_NAME — название университета,\n",
    "RATING — рейтинг университета,\n",
    "CITY — город, в котором расположен университет.\n",
    "\n",
    "\n",
    "EXAM_MARKS\n",
    "EXAM_ID — идентификатор экзамена,\n",
    "STUDENT_ID — идентификатор студента,\n",
    "SUBJ_ID — идентификатор предмета обучения,\n",
    "MARK — экзаменационная оценка,\n",
    "EXAM_DATE — дата экзамена.\n",
    "\n",
    "\n",
    "SUBJ_LECT\n",
    "LECTURER_ID — идентификатор преподавателя,\n",
    "SUBJ_ID — идентификатор предмета обучения.\n",
    "```\n",
    "\n",
    "<img src=\"../Img/Students_Schema.png\" style=\"width:60%\">"
   ]
  },
  {
   "cell_type": "code",
   "execution_count": null,
   "id": "479f24f2",
   "metadata": {},
   "outputs": [],
   "source": []
  },
  {
   "cell_type": "code",
   "execution_count": null,
   "id": "5c1c58c6",
   "metadata": {},
   "outputs": [],
   "source": []
  },
  {
   "cell_type": "code",
   "execution_count": null,
   "id": "cae987a1",
   "metadata": {},
   "outputs": [],
   "source": []
  }
 ],
 "metadata": {
  "kernelspec": {
   "display_name": "Python 3 (ipykernel)",
   "language": "python",
   "name": "python3"
  },
  "language_info": {
   "codemirror_mode": {
    "name": "ipython",
    "version": 3
   },
   "file_extension": ".py",
   "mimetype": "text/x-python",
   "name": "python",
   "nbconvert_exporter": "python",
   "pygments_lexer": "ipython3",
   "version": "3.9.7"
  }
 },
 "nbformat": 4,
 "nbformat_minor": 5
}
